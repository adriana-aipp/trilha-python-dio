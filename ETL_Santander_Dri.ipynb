{
  "nbformat": 4,
  "nbformat_minor": 0,
  "metadata": {
    "colab": {
      "provenance": []
    },
    "kernelspec": {
      "name": "python3",
      "display_name": "Python 3"
    },
    "language_info": {
      "name": "python"
    }
  },
  "cells": [
    {
      "cell_type": "markdown",
      "source": [
        "**Contexto:**\n",
        "Cenário de ETL para análise de vendas e produtos comercializados considerando os passos envolvidos na extração, transformação e carga de dados para prepará-los para análise (sem uso de Swagger/Apis, pois, esse tema não foi abordado nas aulas anteriores de Python da Trilha de Ciencia de Dados)\n",
        "\n",
        "**Condições do Problema:**\n",
        "\n",
        "Disponibilizado uma planilha, em formato CSV ('SantanderWeekETL_Dri') que contém informações sobre vendas (links abaixo)"
      ],
      "metadata": {
        "id": "hx-He08N8t8j"
      }
    },
    {
      "cell_type": "markdown",
      "source": [
        "# **Processo de Extração**\n",
        "\n",
        "Vamos ler o conteúdo do arquivo CSV para extrair os dados.\n",
        "\n",
        "OrderID,Product,Quantity,Price\n",
        "1001,Product A,10,50\n",
        "1002,Product B,5,30\n",
        "1003,Product C,8,20\n",
        "\n",
        "\n",
        "# Repositório do arquivo com dados iniciais:\n",
        " https://github.com/adriana-aipp/trilha-python-dio/blob/main/SantanderWeekETL_Rev01.csv\n",
        "\n",
        "\n",
        "# **Transform**\n",
        "Atualização: Agregação/Incrementno no CSV: Inclusão de colunas com campos calculados (Coluna total de vendas por pedido)\n",
        "\n",
        "# Repositório do arquivo com dados transformados:\n",
        "https://github.com/adriana-aipp/trilha-python-dio/blob/main/SantanderWeekETL_Rev02.csv\n",
        "\n",
        "\n",
        "# **Carga**:\n",
        "Destino arquivo versão 2 final: Vamos carregar os dados transformados num repositório do Git (Link a seguir)\n",
        "\n",
        "# Repositório da Base Tratada:\n",
        "https://github.com/adriana-aipp/trilha-python-dio/compare/main...adriana-aipp-BasedeDados?expand=1#diff-bb41c2191c8e770ae53657d87c32f60885ab02ac2c605cea40ae1b172ea8f9b7\n",
        "\n",
        "\n",
        "\n",
        "\n",
        "\n",
        "\n"
      ],
      "metadata": {
        "id": "6WIE0VXA8f6c"
      }
    }
  ]
}